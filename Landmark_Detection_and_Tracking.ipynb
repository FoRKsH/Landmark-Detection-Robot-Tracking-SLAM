{
  "cells": [
    {
      "cell_type": "code",
      "source": [
        "# import some resources\n",
        "import random\n",
        "import numpy as np\n",
        "from math import *\n",
        "import seaborn as sns\n",
        "from pandas import DataFrame\n",
        "import matplotlib.pyplot as plt\n",
        "%matplotlib inline\n"
      ],
      "metadata": {
        "id": "S6_pJvMJdNR4"
      },
      "execution_count": null,
      "outputs": []
    },
    {
      "cell_type": "markdown",
      "source": [
        "**Robot.py**"
      ],
      "metadata": {
        "id": "PTP6n2EpdhBT"
      }
    },
    {
      "cell_type": "code",
      "execution_count": null,
      "metadata": {
        "collapsed": true,
        "id": "hJ0R5EQbYb9x"
      },
      "outputs": [],
      "source": [
        "# the robot class\n",
        "class robot:\n",
        "\n",
        "    # --------\n",
        "    # init: \n",
        "    #   creates a robot with the specified parameters and initializes \n",
        "    #   the location (self.x, self.y) to the center of the world\n",
        "    #\n",
        "    def __init__(self, world_size = 100.0, measurement_range = 30.0,\n",
        "                 motion_noise = 1.0, measurement_noise = 1.0):\n",
        "        self.measurement_noise = 0.0\n",
        "        self.world_size = world_size\n",
        "        self.measurement_range = measurement_range\n",
        "        self.x = world_size / 2.0\n",
        "        self.y = world_size / 2.0\n",
        "        self.motion_noise = motion_noise\n",
        "        self.measurement_noise = measurement_noise\n",
        "        self.landmarks = []\n",
        "        self.num_landmarks = 0\n",
        "\n",
        "\n",
        "    # returns a positive, random float\n",
        "    def rand(self):\n",
        "        return random.random() * 2.0 - 1.0\n",
        "\n",
        "\n",
        "    # --------\n",
        "    # move: attempts to move robot by dx, dy. If outside world\n",
        "    #       boundary, then the move does nothing and instead returns failure\n",
        "    #\n",
        "    def move(self, dx, dy):\n",
        "\n",
        "        x = self.x + dx + self.rand() * self.motion_noise\n",
        "        y = self.y + dy + self.rand() * self.motion_noise\n",
        "\n",
        "        if x < 0.0 or x > self.world_size or y < 0.0 or y > self.world_size:\n",
        "            return False\n",
        "        else:\n",
        "            self.x = x\n",
        "            self.y = y\n",
        "            return True\n",
        "    \n",
        "\n",
        "    # --------\n",
        "    # sense: returns x- and y- distances to landmarks within visibility range\n",
        "    #        because not all landmarks may be in this range, the list of measurements\n",
        "    #        is of variable length. Set measurement_range to -1 if you want all\n",
        "    #        landmarks to be visible at all times\n",
        "    #\n",
        "    \n",
        "    ## TODO: complete the sense function\n",
        "    def sense(self):\n",
        "        measurements = []\n",
        "        # more readable, Python doesn't support #define :(\n",
        "        X=0\n",
        "        Y=1\n",
        "        for idx, landmark in enumerate(self.landmarks):\n",
        "          dx = landmark[X] - self.x + self.rand() * self.measurement_noise\n",
        "          dy = landmark[Y] - self.y + self.rand() * self.measurement_noise\n",
        "          \n",
        "          if (abs(dx) <= self.measurement_range) and (abs(dy) <= self.measurement_range):\n",
        "            measurements.append([idx,dx,dy])\n",
        "\n",
        "        return measurements\n",
        "\n",
        "\n",
        "    def make_landmarks(self, num_landmarks):\n",
        "        self.landmarks = []\n",
        "        for i in range(num_landmarks):\n",
        "            self.landmarks.append([round(random.random() * self.world_size),\n",
        "                                   round(random.random() * self.world_size)])\n",
        "        self.num_landmarks = num_landmarks\n",
        "    \n",
        "    \n",
        "    # called when print(robot) is called; prints the robot's location\n",
        "    def __repr__(self):\n",
        "        return 'Robot: [x=%.5f y=%.5f]'  % (self.x, self.y)\n"
      ]
    },
    {
      "cell_type": "markdown",
      "source": [
        "**Helper.py**"
      ],
      "metadata": {
        "id": "eK8-vOa9ftmx"
      }
    },
    {
      "cell_type": "code",
      "source": [
        "# --------\n",
        "# this helper function displays the world that a robot is in\n",
        "# it assumes the world is a square grid of some given size\n",
        "# and that landmarks is a list of landmark positions(an optional argument)\n",
        "def display_world(world_size, position, landmarks=None):\n",
        "    \n",
        "    # using seaborn, set background grid to gray\n",
        "    sns.set_style(\"dark\")\n",
        "\n",
        "    # Plot grid of values\n",
        "    world_grid = np.zeros((world_size+1, world_size+1))\n",
        "\n",
        "    # Set minor axes in between the labels\n",
        "    ax=plt.gca()\n",
        "    cols = world_size+1\n",
        "    rows = world_size+1\n",
        "\n",
        "    ax.set_xticks([x for x in range(1,cols)],minor=True )\n",
        "    ax.set_yticks([y for y in range(1,rows)],minor=True)\n",
        "    \n",
        "    # Plot grid on minor axes in gray (width = 1)\n",
        "    plt.grid(which='minor',ls='-',lw=1, color='white')\n",
        "    \n",
        "    # Plot grid on major axes in larger width\n",
        "    plt.grid(which='major',ls='-',lw=2, color='white')\n",
        "    \n",
        "    # Create an 'o' character that represents the robot\n",
        "    # ha = horizontal alignment, va = vertical\n",
        "    ax.text(position[0], position[1], 'o', ha='center', va='center', color='r', fontsize=30)\n",
        "    \n",
        "    # Draw landmarks if they exists\n",
        "    if(landmarks is not None):\n",
        "        # loop through all path indices and draw a dot (unless it's at the car's location)\n",
        "        for pos in landmarks:\n",
        "            if(pos != position):\n",
        "                ax.text(pos[0], pos[1], 'x', ha='center', va='center', color='purple', fontsize=20)\n",
        "    \n",
        "    # Display final result\n",
        "    plt.show()\n",
        "\n",
        "    \n",
        "# --------\n",
        "# this routine makes the robot data\n",
        "# the data is a list of measurements and movements: [measurements, [dx, dy]]\n",
        "# collected over a specified number of time steps, N\n",
        "#\n",
        "def make_data(N, num_landmarks, world_size, measurement_range, motion_noise, \n",
        "              measurement_noise, distance):\n",
        "\n",
        "    # check that data has been made\n",
        "    try:\n",
        "        check_for_data(num_landmarks, world_size, measurement_range, motion_noise, measurement_noise)\n",
        "    except ValueError:\n",
        "        print('Error: You must implement the sense function in robot_class.py.')\n",
        "        return []\n",
        "    \n",
        "    complete = False\n",
        "    \n",
        "    r = robot(world_size, measurement_range, motion_noise, measurement_noise)\n",
        "    r.make_landmarks(num_landmarks)\n",
        "\n",
        "    while not complete:\n",
        "\n",
        "        data = []\n",
        "\n",
        "        seen = [False for row in range(num_landmarks)]\n",
        "    \n",
        "        # guess an initial motion\n",
        "        orientation = random.random() * 2.0 * pi\n",
        "        dx = cos(orientation) * distance\n",
        "        dy = sin(orientation) * distance\n",
        "            \n",
        "        for k in range(N-1):\n",
        "    \n",
        "            # collect sensor measurements in a list, Z\n",
        "            Z = r.sense()\n",
        "\n",
        "            # check off all landmarks that were observed \n",
        "            for i in range(len(Z)):\n",
        "                seen[Z[i][0]] = True\n",
        "    \n",
        "            # move\n",
        "            while not r.move(dx, dy):\n",
        "                # if we'd be leaving the robot world, pick instead a new direction\n",
        "                orientation = random.random() * 2.0 * pi\n",
        "                dx = cos(orientation) * distance\n",
        "                dy = sin(orientation) * distance\n",
        "\n",
        "            # collect/memorize all sensor and motion data\n",
        "            data.append([Z, [dx, dy]])\n",
        "\n",
        "        # we are done when all landmarks were observed; otherwise re-run\n",
        "        complete = (sum(seen) == num_landmarks)\n",
        "\n",
        "    print(' ')\n",
        "    print('Landmarks: ', r.landmarks)\n",
        "    print(r)\n",
        "\n",
        "\n",
        "    return data\n",
        "\n",
        "\n",
        "def check_for_data(num_landmarks, world_size, measurement_range, motion_noise, measurement_noise):\n",
        "    # make robot and landmarks\n",
        "    r = robot(world_size, measurement_range, motion_noise, measurement_noise)\n",
        "    r.make_landmarks(num_landmarks)\n",
        "    \n",
        "    \n",
        "    # check that sense has been implemented/data has been made\n",
        "    test_Z = r.sense()\n",
        "    if(test_Z is None):\n",
        "        raise ValueError"
      ],
      "metadata": {
        "id": "ElB-TqEVftDA"
      },
      "execution_count": null,
      "outputs": []
    },
    {
      "cell_type": "markdown",
      "source": [
        "**Making Data**"
      ],
      "metadata": {
        "id": "CIIahvWOeGmn"
      }
    },
    {
      "cell_type": "code",
      "execution_count": null,
      "metadata": {
        "id": "0hiogj1TVJk9",
        "colab": {
          "base_uri": "https://localhost:8080/"
        },
        "outputId": "d1e3e1c5-b4b3-47e2-fdc3-20fb6209f5de"
      },
      "outputs": [
        {
          "output_type": "stream",
          "name": "stdout",
          "text": [
            " \n",
            "Landmarks:  [[74, 77], [14, 91], [86, 42], [34, 14], [89, 68]]\n",
            "Robot: [x=47.32018 y=30.54015]\n"
          ]
        }
      ],
      "source": [
        "# your implementation of slam should work with the following inputs\n",
        "# feel free to change these input values and see how it responds!\n",
        "\n",
        "# world parameters\n",
        "num_landmarks      = 5        # number of landmarks\n",
        "N                  = 20       # time steps\n",
        "world_size         = 100.0    # size of world (square)\n",
        "\n",
        "# robot parameters\n",
        "measurement_range  = 50.0     # range at which we can sense landmarks\n",
        "motion_noise       = 2.0      # noise in robot motion\n",
        "measurement_noise  = 2.0      # noise in the measurements\n",
        "distance           = 20.0     # distance by which robot (intends to) move each iteratation \n",
        "\n",
        "\n",
        "# make_data instantiates a robot, AND generates random landmarks for a given world size and number of landmarks\n",
        "data = make_data(N, num_landmarks, world_size, measurement_range, motion_noise, measurement_noise, distance)"
      ]
    },
    {
      "cell_type": "markdown",
      "source": [
        "**Printing Step 0**"
      ],
      "metadata": {
        "id": "DtjAKpHqer0O"
      }
    },
    {
      "cell_type": "code",
      "execution_count": null,
      "metadata": {
        "id": "ACNYGFPQVJk_",
        "colab": {
          "base_uri": "https://localhost:8080/"
        },
        "outputId": "5542226a-95df-4a92-c098-2970c13ecc61"
      },
      "outputs": [
        {
          "output_type": "stream",
          "name": "stdout",
          "text": [
            "Example measurements: \n",
            " [[0, 24.740949892549516, 25.22356313769078], [1, -37.199206157022324, 42.15598479446484], [2, 37.84512695880899, -7.833093933595998], [3, -17.2381529692158, -35.80637491710973], [4, 38.089523127727404, 16.49058470698857]]\n",
            "\n",
            "\n",
            "Example motion: \n",
            " [19.197873105354592, -5.607287065123634]\n"
          ]
        }
      ],
      "source": [
        "# print out some stats about the data\n",
        "time_step = 0\n",
        "\n",
        "print('Example measurements: \\n', data[time_step][0])\n",
        "print('\\n')\n",
        "print('Example motion: \\n', data[time_step][1])"
      ]
    },
    {
      "cell_type": "code",
      "execution_count": null,
      "metadata": {
        "id": "vl7Zry7_VJlC"
      },
      "outputs": [],
      "source": [
        "def initialize_constraints(N, num_landmarks, world_size):\n",
        "    ''' This function takes in a number of time steps N, number of landmarks, and a world_size,\n",
        "        and returns initialized constraint matrices, omega and xi.'''\n",
        "    X=0\n",
        "    Y=1\n",
        "    init_pos = [world_size/2, world_size/2]\n",
        "    # multiplying by 2 since each pos/landmark has x,y values \n",
        "    size = N*2 + num_landmarks*2\n",
        "    \n",
        "    omega = np.zeros((size,size))\n",
        "    pos = 0\n",
        "    omega[pos+X][pos+X] = 1\n",
        "    omega[pos+Y][pos+Y] = 1\n",
        "    \n",
        "    xi = np.zeros((size,1))\n",
        "    xi[pos+X] = init_pos[X]\n",
        "    xi[pos+Y] = init_pos[Y]\n",
        "    \n",
        "    return omega, xi\n",
        "    "
      ]
    },
    {
      "cell_type": "markdown",
      "metadata": {
        "id": "tQIVTF68VJlC"
      },
      "source": [
        "### Test as you go\n"
      ]
    },
    {
      "cell_type": "code",
      "execution_count": null,
      "metadata": {
        "id": "CUrgzKixVJlD"
      },
      "outputs": [],
      "source": [
        "# define a small N and world_size (small for ease of visualization)\n",
        "N_test = 5\n",
        "num_landmarks_test = 2\n",
        "small_world = 10\n",
        "\n",
        "# initialize the constraints\n",
        "initial_omega, initial_xi = initialize_constraints(N_test, num_landmarks_test, small_world)"
      ]
    },
    {
      "cell_type": "code",
      "execution_count": null,
      "metadata": {
        "id": "TsRVqNWsVJlD",
        "colab": {
          "base_uri": "https://localhost:8080/",
          "height": 450
        },
        "outputId": "b7f20e90-adb0-49bd-80d0-484c9354c056"
      },
      "outputs": [
        {
          "output_type": "execute_result",
          "data": {
            "text/plain": [
              "<matplotlib.axes._subplots.AxesSubplot at 0x7fcc66400cd0>"
            ]
          },
          "metadata": {},
          "execution_count": 23
        },
        {
          "output_type": "display_data",
          "data": {
            "image/png": "[encoded data removed]",
            "text/plain": [
              "<Figure size 720x504 with 2 Axes>"
            ]
          },
          "metadata": {
            "needs_background": "light"
          }
        }
      ],
      "source": [
        "# define figure size\n",
        "plt.rcParams[\"figure.figsize\"] = (10,7)\n",
        "\n",
        "# display omega\n",
        "sns.heatmap(DataFrame(initial_omega), cmap='Blues', annot=True, linewidths=.5)"
      ]
    },
    {
      "cell_type": "code",
      "execution_count": null,
      "metadata": {
        "id": "EjoqO6aXVJlE",
        "colab": {
          "base_uri": "https://localhost:8080/",
          "height": 446
        },
        "outputId": "19d6aeed-bdef-458c-a10b-2bdf72b20af2"
      },
      "outputs": [
        {
          "output_type": "execute_result",
          "data": {
            "text/plain": [
              "<matplotlib.axes._subplots.AxesSubplot at 0x7fcc661b8790>"
            ]
          },
          "metadata": {},
          "execution_count": 24
        },
        {
          "output_type": "display_data",
          "data": {
            "image/png": "[encoded data removed]",
            "text/plain": [
              "<Figure size 72x504 with 2 Axes>"
            ]
          },
          "metadata": {
            "needs_background": "light"
          }
        }
      ],
      "source": [
        "# define  figure size\n",
        "plt.rcParams[\"figure.figsize\"] = (1,7)\n",
        "\n",
        "# display xi\n",
        "sns.heatmap(DataFrame(initial_xi), cmap='Oranges', annot=True, linewidths=.5)"
      ]
    },
    {
      "cell_type": "markdown",
      "metadata": {
        "id": "Sz_7a_ORVJlE"
      },
      "source": [
        "---\n",
        "## SLAM inputs \n",
        "\n",
        "In addition to `data`, your slam function will also take in:\n",
        "* N -   The number of time steps that a robot will be moving and sensing\n",
        "* num_landmarks - The number of landmarks in the world\n",
        "* world_size - The size (w/h) of your world\n",
        "* motion_noise - The noise associated with motion; the update confidence for motion should be `1.0/motion_noise`\n",
        "* measurement_noise - The noise associated with measurement/sensing; the update weight for measurement should be `1.0/measurement_noise`\n",
        "\n",
        "#### A note on noise\n",
        "\n",
        "Recall that `omega` holds the relative \"strengths\" or weights for each position variable, and you can update these weights by accessing the correct index in omega `omega[row][col]` and *adding/subtracting* `1.0/noise` where `noise` is measurement or motion noise. `Xi` holds actual position values, and so to update `xi` you'll do a similar addition process only using the actual value of a motion or measurement. So for a vector index `xi[row][0]` you will end up adding/subtracting one measurement or motion divided by their respective `noise`.\n",
        "\n",
        "### TODO: Implement Graph SLAM\n",
        "\n",
        "Follow the TODO's below to help you complete this slam implementation (these TODO's are in the recommended order), then test out your implementation! \n",
        "\n",
        "#### Updating with motion and measurements\n",
        "\n",
        "With a 2D omega and xi structure as shown above (in earlier cells), you'll have to be mindful about how you update the values in these constraint matrices to account for motion and measurement constraints in the x and y directions. Recall that the solution to these matrices (which holds all values for robot poses `P` and landmark locations `L`) is the vector, `mu`, which can be computed at the end of the construction of omega and xi as the inverse of omega times xi: $\\mu = \\Omega^{-1}\\xi$\n",
        "\n",
        "**You may also choose to return the values of `omega` and `xi` if you want to visualize their final state!**"
      ]
    },
    {
      "cell_type": "code",
      "execution_count": null,
      "metadata": {
        "id": "zu3XkFGcVJlE"
      },
      "outputs": [],
      "source": [
        "## TODO: Complete the code to implement SLAM\n",
        "\n",
        "## slam takes in 6 arguments and returns mu, \n",
        "## mu is the entire path traversed by a robot (all x,y poses) *and* all landmarks locations\n",
        "def slam(data, N, num_landmarks, world_size, motion_noise, measurement_noise):\n",
        "\n",
        "  # helping variable (like #difine in C++)  \n",
        "  X=0\n",
        "  Y=1\n",
        "  LM = 2*N\n",
        "  noise_measurement = 1/measurement_noise\n",
        "  noise_motion = 1/motion_noise \n",
        "\n",
        "  omega,xi = initialize_constraints(N,num_landmarks,world_size)\n",
        "\n",
        "    \n",
        "  for pos, item in enumerate(data):\n",
        "    pos *= 2\n",
        "    next = pos + 2\n",
        "    measurements = item[0]\n",
        "    motions = item[1]\n",
        "    for measurement in measurements:\n",
        "      lm_idx = LM + 2*measurement[0]\n",
        "      \n",
        "      omega[pos+X][pos+X] += noise_measurement\n",
        "      omega[pos+Y][pos+Y] += noise_measurement\n",
        "      omega[lm_idx+X][lm_idx+X] += noise_measurement\n",
        "      omega[lm_idx+Y][lm_idx+Y] += noise_measurement\n",
        "      \n",
        "      omega[pos+X][lm_idx+X] += -noise_measurement\n",
        "      omega[pos+Y][lm_idx+Y] += -noise_measurement\n",
        "      omega[lm_idx+X][pos+X] += -noise_measurement\n",
        "      omega[lm_idx+Y][pos+Y] += -noise_measurement\n",
        "      \n",
        "      \n",
        "      xi[pos+X] += -measurement[1+X] * noise_measurement\n",
        "      xi[pos+Y] += -measurement[1+Y] * noise_measurement\n",
        "      xi[lm_idx+X] += measurement[1+X] * noise_measurement\n",
        "      xi[lm_idx+Y] += measurement[1+Y] * noise_measurement\n",
        "\n",
        "    omega[pos+X][pos+X] += noise_motion \n",
        "    omega[pos+Y][pos+Y] += noise_motion \n",
        "    omega[next+X][next+X] += noise_motion \n",
        "    omega[next+Y][next+Y] += noise_motion \n",
        "\n",
        "    \n",
        "    omega[pos+X][next+X] += -noise_motion \n",
        "    omega[pos+Y][next+Y] += -noise_motion \n",
        "    omega[next+X][pos+X] += -noise_motion \n",
        "    omega[next+Y][pos+Y] += -noise_motion\n",
        "    \n",
        "    xi[pos+X] += -motions[X] * noise_motion\n",
        "    xi[pos+Y] += -motions[Y] * noise_motion\n",
        "    xi[next+X] += motions[X] * noise_motion\n",
        "    xi[next+Y] += motions[Y] * noise_motion\n",
        "\n",
        "  omega_inv = np.linalg.inv(np.matrix(omega))\n",
        "  mu = omega_inv * xi\n",
        "    \n",
        "  return mu \n"
      ]
    },
    {
      "cell_type": "markdown",
      "metadata": {
        "id": "ofIV04Z_VJlF"
      },
      "source": [
        "## Helper functions\n",
        "\n",
        "To check that your implementation of SLAM works for various inputs, we have provided two helper functions that will help display the estimated pose and landmark locations that your function has produced. First, given a result `mu` and number of time steps, `N`, we define a function that extracts the poses and landmarks locations and returns those as their own, separate lists. \n",
        "\n",
        "Then, we define a function that nicely print out these lists; both of these we will call, in the next step.\n"
      ]
    },
    {
      "cell_type": "code",
      "execution_count": null,
      "metadata": {
        "id": "YU9gnC-QVJlF"
      },
      "outputs": [],
      "source": [
        "# a helper function that creates a list of poses and of landmarks for ease of printing\n",
        "# this only works for the suggested constraint architecture of interlaced x,y poses\n",
        "def get_poses_landmarks(mu, N):\n",
        "    # create a list of poses\n",
        "    poses = []\n",
        "    for i in range(N):\n",
        "        poses.append((mu[2*i].item(), mu[2*i+1].item()))\n",
        "\n",
        "    # create a list of landmarks\n",
        "    landmarks = []\n",
        "    for i in range(num_landmarks):\n",
        "        landmarks.append((mu[2*(N+i)].item(), mu[2*(N+i)+1].item()))\n",
        "\n",
        "    # return completed lists\n",
        "    return poses, landmarks\n"
      ]
    },
    {
      "cell_type": "code",
      "execution_count": null,
      "metadata": {
        "id": "wtTDnFTDVJlF"
      },
      "outputs": [],
      "source": [
        "def print_all(poses, landmarks):\n",
        "    print('\\n')\n",
        "    print('Estimated Poses:')\n",
        "    for i in range(len(poses)):\n",
        "        print('['+', '.join('%.3f'%p for p in poses[i])+']')\n",
        "    print('\\n')\n",
        "    print('Estimated Landmarks:')\n",
        "    for i in range(len(landmarks)):\n",
        "        print('['+', '.join('%.3f'%l for l in landmarks[i])+']')\n"
      ]
    },
    {
      "cell_type": "markdown",
      "metadata": {
        "id": "x9MhLLRUVJlG"
      },
      "source": [
        "## Run SLAM\n",
        "\n",
        "Once you've completed your implementation of `slam`, see what `mu` it returns for different world sizes and different landmarks!\n",
        "\n",
        "### What to Expect\n",
        "\n",
        "The `data` that is generated is random, but you did specify the number, `N`, or time steps that the robot was expected to move and the `num_landmarks` in the world (which your implementation of `slam` should see and estimate a position for. Your robot should also start with an estimated pose in the very center of your square world, whose size is defined by `world_size`.\n",
        "\n",
        "With these values in mind, you should expect to see a result that displays two lists:\n",
        "1. **Estimated poses**, a list of (x, y) pairs that is exactly `N` in length since this is how many motions your robot has taken. The very first pose should be the center of your world, i.e. `[50.000, 50.000]` for a world that is 100.0 in square size.\n",
        "2. **Estimated landmarks**, a list of landmark positions (x, y) that is exactly `num_landmarks` in length. \n",
        "\n",
        "#### Landmark Locations\n",
        "\n",
        "If you refer back to the printout of *exact* landmark locations when this data was created, you should see values that are very similar to those coordinates, but not quite (since `slam` must account for noise in motion and measurement)."
      ]
    },
    {
      "cell_type": "code",
      "execution_count": null,
      "metadata": {
        "id": "GBMzpEf9VJlG",
        "colab": {
          "base_uri": "https://localhost:8080/"
        },
        "outputId": "9fa4a4e7-8028-4cae-bb59-6724d05c6093"
      },
      "outputs": [
        {
          "output_type": "stream",
          "name": "stdout",
          "text": [
            "\n",
            "\n",
            "Estimated Poses:\n",
            "[50.000, 50.000]\n",
            "[70.035, 43.184]\n",
            "[89.594, 37.488]\n",
            "[69.565, 44.964]\n",
            "[49.710, 53.056]\n",
            "[29.323, 61.052]\n",
            "[9.989, 67.156]\n",
            "[29.001, 64.024]\n",
            "[50.206, 61.503]\n",
            "[69.582, 58.033]\n",
            "[89.131, 54.042]\n",
            "[97.292, 36.040]\n",
            "[79.322, 43.259]\n",
            "[62.283, 51.793]\n",
            "[44.997, 61.115]\n",
            "[28.218, 68.794]\n",
            "[10.306, 77.560]\n",
            "[22.566, 61.048]\n",
            "[33.194, 44.563]\n",
            "[45.996, 29.197]\n",
            "\n",
            "\n",
            "Estimated Landmarks:\n",
            "[73.679, 76.943]\n",
            "[12.853, 90.454]\n",
            "[85.831, 41.737]\n",
            "[33.929, 14.148]\n",
            "[89.108, 68.159]\n"
          ]
        }
      ],
      "source": [
        "# call your implementation of slam, passing in the necessary parameters\n",
        "mu = slam(data, N, num_landmarks, world_size, motion_noise, measurement_noise)\n",
        "\n",
        "# print out the resulting landmarks and poses\n",
        "if(mu is not None):\n",
        "    # get the lists of poses and landmarks\n",
        "    # and print them out\n",
        "    poses, landmarks = get_poses_landmarks(mu, N)\n",
        "    print_all(poses, landmarks)"
      ]
    },
    {
      "cell_type": "markdown",
      "metadata": {
        "id": "LOUcAZqaVJlG"
      },
      "source": [
        "## Visualize the constructed world\n",
        "\n",
        "Finally, using the `display_world` code from the `helpers.py` file (which was also used in the first notebook), we can actually visualize what you have coded with `slam`: the final position of the robot and the positon of landmarks, created from only motion and measurement data!\n",
        "\n",
        "**Note that these should be very similar to the printed *true* landmark locations and final pose from our call to `make_data` early in this notebook.**"
      ]
    },
    {
      "cell_type": "code",
      "execution_count": null,
      "metadata": {
        "id": "4Rv2mr-6VJlG",
        "colab": {
          "base_uri": "https://localhost:8080/",
          "height": 1000
        },
        "outputId": "9c01054c-a2c2-4c04-be0a-ba6cb3028e95"
      },
      "outputs": [
        {
          "output_type": "stream",
          "name": "stdout",
          "text": [
            "Last pose:  (45.99577888570815, 29.196947344890077)\n"
          ]
        },
        {
          "output_type": "display_data",
          "data": {
            "image/png": "[encoded data removed]",
            "text/plain": [
              "<Figure size 1440x1440 with 1 Axes>"
            ]
          },
          "metadata": {}
        }
      ],
      "source": [
        "# Display the final world!\n",
        "\n",
        "# define figure size\n",
        "plt.rcParams[\"figure.figsize\"] = (20,20)\n",
        "\n",
        "# check if poses has been created\n",
        "if 'poses' in locals():\n",
        "    # print out the last pose\n",
        "    print('Last pose: ', poses[-1])\n",
        "    # display the last position of the robot *and* the landmark positions\n",
        "    display_world(int(world_size), poses[-1], landmarks)"
      ]
    },
    {
      "cell_type": "markdown",
      "metadata": {
        "id": "tL5fwTkPVJlH"
      },
      "source": [
        "### Question: How far away is your final pose (as estimated by `slam`) compared to the *true* final pose? Why do you think these poses are different?\n",
        "\n",
        "You can find the true value of the final pose in one of the first cells where `make_data` was called. You may also want to look at the true landmark locations and compare them to those that were estimated by `slam`. Ask yourself: what do you think would happen if we moved and sensed more (increased N)? Or if we had lower/higher noise parameters."
      ]
    },
    {
      "cell_type": "markdown",
      "metadata": {
        "id": "-aKvJ79qVJlH"
      },
      "source": [
        "**Answer**: (Write your answer here.)"
      ]
    },
    {
      "cell_type": "markdown",
      "metadata": {
        "id": "-Mtiq49vVJlH"
      },
      "source": [
        "## Testing\n",
        "\n",
        "To confirm that your slam code works before submitting your project, it is suggested that you run it on some test data and cases. A few such cases have been provided for you, in the cells below. When you are ready, uncomment the test cases in the next cells (there are two test cases, total); your output should be **close-to or exactly** identical to the given results. If there are minor discrepancies it could be a matter of floating point accuracy or in the calculation of the inverse matrix.\n",
        "\n",
        "### Submit your project\n",
        "\n",
        "If you pass these tests, it is a good indication that your project will pass all the specifications in the project rubric. Follow the submission instructions to officially submit!"
      ]
    },
    {
      "cell_type": "code",
      "execution_count": null,
      "metadata": {
        "id": "9uEX3MX1VJlH",
        "colab": {
          "base_uri": "https://localhost:8080/"
        },
        "outputId": "51a11757-93ad-4942-e6fc-02b0130f9e11"
      },
      "outputs": [
        {
          "output_type": "stream",
          "name": "stdout",
          "text": [
            "\n",
            "\n",
            "Estimated Poses:\n",
            "[50.000, 50.000]\n",
            "[37.973, 33.652]\n",
            "[26.185, 18.155]\n",
            "[13.745, 2.116]\n",
            "[28.097, 16.783]\n",
            "[42.384, 30.902]\n",
            "[55.831, 44.497]\n",
            "[70.857, 59.699]\n",
            "[85.697, 75.543]\n",
            "[74.011, 92.434]\n",
            "[53.544, 96.454]\n",
            "[34.525, 100.080]\n",
            "[48.623, 83.953]\n",
            "[60.197, 68.107]\n",
            "[73.778, 52.935]\n",
            "[87.132, 38.538]\n",
            "[80.303, 20.508]\n",
            "[72.798, 2.945]\n",
            "[55.245, 13.255]\n",
            "[37.416, 22.317]\n",
            "\n",
            "\n",
            "Estimated Landmarks:\n",
            "[82.956, 13.539]\n",
            "[70.495, 74.141]\n",
            "[36.740, 61.281]\n",
            "[18.698, 66.060]\n",
            "[20.635, 16.875]\n"
          ]
        }
      ],
      "source": [
        "# Here is the data and estimated outputs for test case 1\n",
        "\n",
        "test_data1 = [[[[1, 19.457599255548065, 23.8387362100849], [2, -13.195807561967236, 11.708840328458608], [3, -30.0954905279171, 15.387879242505843]], [-12.2607279422326, -15.801093326936487]], [[[2, -0.4659930049620491, 28.088559771215664], [4, -17.866382374890936, -16.384904503932]], [-12.2607279422326, -15.801093326936487]], [[[4, -6.202512900833806, -1.823403210274639]], [-12.2607279422326, -15.801093326936487]], [[[4, 7.412136480918645, 15.388585962142429]], [14.008259661173426, 14.274756084260822]], [[[4, -7.526138813444998, -0.4563942429717849]], [14.008259661173426, 14.274756084260822]], [[[2, -6.299793150150058, 29.047830407717623], [4, -21.93551130411791, -13.21956810989039]], [14.008259661173426, 14.274756084260822]], [[[1, 15.796300959032276, 30.65769689694247], [2, -18.64370821983482, 17.380022987031367]], [14.008259661173426, 14.274756084260822]], [[[1, 0.40311325410337906, 14.169429532679855], [2, -35.069349468466235, 2.4945558982439957]], [14.008259661173426, 14.274756084260822]], [[[1, -16.71340983241936, -2.777000269543834]], [-11.006096015782283, 16.699276945166858]], [[[1, -3.611096830835776, -17.954019226763958]], [-19.693482634035977, 3.488085684573048]], [[[1, 18.398273354362416, -22.705102332550947]], [-19.693482634035977, 3.488085684573048]], [[[2, 2.789312482883833, -39.73720193121324]], [12.849049222879723, -15.326510824972983]], [[[1, 21.26897046581808, -10.121029799040915], [2, -11.917698965880655, -23.17711662602097], [3, -31.81167947898398, -16.7985673023331]], [12.849049222879723, -15.326510824972983]], [[[1, 10.48157743234859, 5.692957082575485], [2, -22.31488473554935, -5.389184118551409], [3, -40.81803984305378, -2.4703329790238118]], [12.849049222879723, -15.326510824972983]], [[[0, 10.591050242096598, -39.2051798967113], [1, -3.5675572049297553, 22.849456408289125], [2, -38.39251065320351, 7.288990306029511]], [12.849049222879723, -15.326510824972983]], [[[0, -3.6225556479370766, -25.58006865235512]], [-7.8874682868419965, -18.379005523261092]], [[[0, 1.9784503557879374, -6.5025974151499]], [-7.8874682868419965, -18.379005523261092]], [[[0, 10.050665232782423, 11.026385307998742]], [-17.82919359778298, 9.062000642947142]], [[[0, 26.526838150174818, -0.22563393232425621], [4, -33.70303936886652, 2.880339841013677]], [-17.82919359778298, 9.062000642947142]]]\n",
        "\n",
        "##  Test Case 1\n",
        "##\n",
        "# Estimated Pose(s):\n",
        "#     [50.000, 50.000]\n",
        "#     [37.858, 33.921]\n",
        "#     [25.905, 18.268]\n",
        "#     [13.524, 2.224]\n",
        "#     [27.912, 16.886]\n",
        "#     [42.250, 30.994]\n",
        "#     [55.992, 44.886]\n",
        "#     [70.749, 59.867]\n",
        "#     [85.371, 75.230]\n",
        "#     [73.831, 92.354]\n",
        "#     [53.406, 96.465]\n",
        "#     [34.370, 100.134]\n",
        "#     [48.346, 83.952]\n",
        "#     [60.494, 68.338]\n",
        "#     [73.648, 53.082]\n",
        "#     [86.733, 38.197]\n",
        "#     [79.983, 20.324]\n",
        "#     [72.515, 2.837]\n",
        "#     [54.993, 13.221]\n",
        "#     [37.164, 22.283]\n",
        "\n",
        "\n",
        "# Estimated Landmarks:\n",
        "#     [82.679, 13.435]\n",
        "#     [70.417, 74.203]\n",
        "#     [36.688, 61.431]\n",
        "#     [18.705, 66.136]\n",
        "#     [20.437, 16.983]\n",
        "\n",
        "\n",
        "### Uncomment the following three lines for test case 1 and compare the output to the values above ###\n",
        "\n",
        "mu_1 = slam(test_data1, 20, 5, 100.0, 2.0, 2.0)\n",
        "poses, landmarks = get_poses_landmarks(mu_1, 20)\n",
        "print_all(poses, landmarks)"
      ]
    },
    {
      "cell_type": "code",
      "execution_count": null,
      "metadata": {
        "id": "t9bYthH6VJlI",
        "colab": {
          "base_uri": "https://localhost:8080/"
        },
        "outputId": "ba43fc11-7a2f-4b2f-9898-9388a195cc7d"
      },
      "outputs": [
        {
          "output_type": "stream",
          "name": "stdout",
          "text": [
            "\n",
            "\n",
            "Estimated Poses:\n",
            "[50.000, 50.000]\n",
            "[69.181, 45.665]\n",
            "[87.743, 39.703]\n",
            "[76.270, 56.311]\n",
            "[64.317, 72.176]\n",
            "[52.257, 88.154]\n",
            "[44.059, 69.401]\n",
            "[37.002, 49.918]\n",
            "[30.924, 30.955]\n",
            "[23.508, 11.419]\n",
            "[34.180, 27.133]\n",
            "[44.155, 43.846]\n",
            "[54.806, 60.920]\n",
            "[65.698, 78.546]\n",
            "[77.468, 95.626]\n",
            "[96.802, 98.821]\n",
            "[75.957, 99.971]\n",
            "[70.200, 81.181]\n",
            "[64.054, 61.723]\n",
            "[58.107, 42.628]\n",
            "\n",
            "\n",
            "Estimated Landmarks:\n",
            "[76.779, 42.887]\n",
            "[85.065, 77.438]\n",
            "[13.548, 95.652]\n",
            "[59.449, 39.595]\n",
            "[69.263, 94.240]\n"
          ]
        }
      ],
      "source": [
        "# Here is the data and estimated outputs for test case 2\n",
        "\n",
        "test_data2 = [[[[0, 26.543274387283322, -6.262538160312672], [3, 9.937396825799755, -9.128540360867689]], [18.92765331253674, -6.460955043986683]], [[[0, 7.706544739722961, -3.758467215445748], [1, 17.03954411948937, 31.705489938553438], [3, -11.61731288777497, -6.64964096716416]], [18.92765331253674, -6.460955043986683]], [[[0, -12.35130507136378, 2.585119104239249], [1, -2.563534536165313, 38.22159657838369], [3, -26.961236804740935, -0.4802312626141525]], [-11.167066095509824, 16.592065417497455]], [[[0, 1.4138633151721272, -13.912454837810632], [1, 8.087721200818589, 20.51845934354381], [3, -17.091723454402302, -16.521500551709707], [4, -7.414211721400232, 38.09191602674439]], [-11.167066095509824, 16.592065417497455]], [[[0, 12.886743222179561, -28.703968411636318], [1, 21.660953298391387, 3.4912891084614914], [3, -6.401401414569506, -32.321583037341625], [4, 5.034079343639034, 23.102207946092893]], [-11.167066095509824, 16.592065417497455]], [[[1, 31.126317672358578, -10.036784369535214], [2, -38.70878528420893, 7.4987265861424595], [4, 17.977218575473767, 6.150889254289742]], [-6.595520680493778, -18.88118393939265]], [[[1, 41.82460922922086, 7.847527392202475], [3, 15.711709540417502, -30.34633659912818]], [-6.595520680493778, -18.88118393939265]], [[[0, 40.18454208294434, -6.710999804403755], [3, 23.019508919299156, -10.12110867290604]], [-6.595520680493778, -18.88118393939265]], [[[3, 27.18579315312821, 8.067219022708391]], [-6.595520680493778, -18.88118393939265]], [[], [11.492663265706092, 16.36822198838621]], [[[3, 24.57154567653098, 13.461499960708197]], [11.492663265706092, 16.36822198838621]], [[[0, 31.61945290413707, 0.4272295085799329], [3, 16.97392299158991, -5.274596836133088]], [11.492663265706092, 16.36822198838621]], [[[0, 22.407381798735177, -18.03500068379259], [1, 29.642444125196995, 17.3794951934614], [3, 4.7969752441371645, -21.07505361639969], [4, 14.726069092569372, 32.75999422300078]], [11.492663265706092, 16.36822198838621]], [[[0, 10.705527984670137, -34.589764174299596], [1, 18.58772336795603, -0.20109708164787765], [3, -4.839806195049413, -39.92208742305105], [4, 4.18824810165454, 14.146847823548889]], [11.492663265706092, 16.36822198838621]], [[[1, 5.878492140223764, -19.955352450942357], [4, -7.059505455306587, -0.9740849280550585]], [19.628527845173146, 3.83678180657467]], [[[1, -11.150789592446378, -22.736641053247872], [4, -28.832815721158255, -3.9462962046291388]], [-19.841703647091965, 2.5113335861604362]], [[[1, 8.64427397916182, -20.286336970889053], [4, -5.036917727942285, -6.311739993868336]], [-5.946642674882207, -19.09548221169787]], [[[0, 7.151866679283043, -39.56103232616369], [1, 16.01535401373368, -3.780995345194027], [4, -3.04801331832137, 13.697362774960865]], [-5.946642674882207, -19.09548221169787]], [[[0, 12.872879480504395, -19.707592098123207], [1, 22.236710716903136, 16.331770792606406], [3, -4.841206109583004, -21.24604435851242], [4, 4.27111163223552, 32.25309748614184]], [-5.946642674882207, -19.09548221169787]]] \n",
        "\n",
        "\n",
        "##  Test Case 2\n",
        "##\n",
        "# Estimated Pose(s):\n",
        "#     [50.000, 50.000]\n",
        "#     [69.035, 45.061]\n",
        "#     [87.655, 38.971]\n",
        "#     [76.084, 55.541]\n",
        "#     [64.283, 71.684]\n",
        "#     [52.396, 87.887]\n",
        "#     [44.674, 68.948]\n",
        "#     [37.532, 49.680]\n",
        "#     [31.392, 30.893]\n",
        "#     [24.796, 12.012]\n",
        "#     [33.641, 26.440]\n",
        "#     [43.858, 43.560]\n",
        "#     [54.735, 60.659]\n",
        "#     [65.884, 77.791]\n",
        "#     [77.413, 94.554]\n",
        "#     [96.740, 98.020]\n",
        "#     [76.149, 99.586]\n",
        "#     [70.211, 80.580]\n",
        "#     [64.130, 61.270]\n",
        "#     [58.183, 42.175]\n",
        "\n",
        "\n",
        "# Estimated Landmarks:\n",
        "#     [76.777, 42.415]\n",
        "#     [85.109, 76.850]\n",
        "#     [13.687, 95.386]\n",
        "#     [59.488, 39.149]\n",
        "#     [69.283, 93.654]\n",
        "\n",
        "\n",
        "### Uncomment the following three lines for test case 2 and compare to the values above ###\n",
        "\n",
        "mu_2 = slam(test_data2, 20, 5, 100.0, 2.0, 2.0)\n",
        "poses, landmarks = get_poses_landmarks(mu_2, 20)\n",
        "print_all(poses, landmarks)\n"
      ]
    }
  ],
  "metadata": {
    "kernelspec": {
      "display_name": "Python 3",
      "language": "python",
      "name": "python3"
    },
    "language_info": {
      "codemirror_mode": {
        "name": "ipython",
        "version": 3
      },
      "file_extension": ".py",
      "mimetype": "text/x-python",
      "name": "python",
      "nbconvert_exporter": "python",
      "pygments_lexer": "ipython3",
      "version": "3.6.3"
    },
    "colab": {
      "name": "Landmark Detection and Tracking.ipynb",
      "provenance": [],
      "collapsed_sections": [
        "tQIVTF68VJlC"
      ]
    }
  },
  "nbformat": 4,
  "nbformat_minor": 0
}